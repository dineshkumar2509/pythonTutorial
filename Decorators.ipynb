{
 "cells": [
  {
   "cell_type": "markdown",
   "metadata": {},
   "source": [
    "First recall what first class functions and closures are. See notebooks if needed. Here's a quick example."
   ]
  },
  {
   "cell_type": "code",
   "execution_count": 95,
   "metadata": {},
   "outputs": [],
   "source": [
    "from functools import wraps"
   ]
  },
  {
   "cell_type": "code",
   "execution_count": 1,
   "metadata": {},
   "outputs": [],
   "source": [
    "def OuterFunction():\n",
    "    message = 'Hi'\n",
    "    def InnerFunction():\n",
    "        print(message)\n",
    "    return InnerFunction()\n"
   ]
  },
  {
   "cell_type": "markdown",
   "metadata": {},
   "source": [
    "message is a free variable. "
   ]
  },
  {
   "cell_type": "code",
   "execution_count": 2,
   "metadata": {},
   "outputs": [
    {
     "name": "stdout",
     "output_type": "stream",
     "text": [
      "Hi\n"
     ]
    }
   ],
   "source": [
    "OuterFunction()"
   ]
  },
  {
   "cell_type": "code",
   "execution_count": 3,
   "metadata": {},
   "outputs": [],
   "source": [
    "def OuterFunction():\n",
    "    message = 'Hi'\n",
    "    def InnerFunction():\n",
    "        print(message)\n",
    "    return InnerFunction"
   ]
  },
  {
   "cell_type": "markdown",
   "metadata": {},
   "source": [
    "If we take away the parentheses on the return statement, it returns the function which is waiting to be executed. I think once it's executed, that is the process of 'closure.'"
   ]
  },
  {
   "cell_type": "code",
   "execution_count": 4,
   "metadata": {},
   "outputs": [],
   "source": [
    "myFunc=OuterFunction()"
   ]
  },
  {
   "cell_type": "code",
   "execution_count": 5,
   "metadata": {},
   "outputs": [
    {
     "name": "stdout",
     "output_type": "stream",
     "text": [
      "Hi\n"
     ]
    }
   ],
   "source": [
    "myFunc()"
   ]
  },
  {
   "cell_type": "code",
   "execution_count": 6,
   "metadata": {},
   "outputs": [],
   "source": [
    "def OuterFunction(msg):\n",
    "    message = msg\n",
    "    def InnerFunction():\n",
    "        print(message)\n",
    "    return InnerFunction"
   ]
  },
  {
   "cell_type": "code",
   "execution_count": 7,
   "metadata": {},
   "outputs": [],
   "source": [
    "hiFunc=OuterFunction('Hi')\n",
    "byeFunc=OuterFunction('Bye')"
   ]
  },
  {
   "cell_type": "code",
   "execution_count": 8,
   "metadata": {},
   "outputs": [
    {
     "name": "stdout",
     "output_type": "stream",
     "text": [
      "Hi\n"
     ]
    }
   ],
   "source": [
    "hiFunc()"
   ]
  },
  {
   "cell_type": "code",
   "execution_count": 10,
   "metadata": {},
   "outputs": [],
   "source": [
    "def OuterFunction(msg):\n",
    "    def InnerFunction():\n",
    "        print(msg)\n",
    "    return InnerFunction"
   ]
  },
  {
   "cell_type": "markdown",
   "metadata": {},
   "source": [
    "A decorator is a fucntion that takes ANOTHER function as an argument, adds some extra features, and then returns another function. ALl of this is done without altering the original function. So it's kind of a temporary add-on. "
   ]
  },
  {
   "cell_type": "code",
   "execution_count": 12,
   "metadata": {},
   "outputs": [],
   "source": [
    "def DecoratorFunction(message):\n",
    "    def WrapperFunction():\n",
    "        print(message)\n",
    "    return WrapperFunction"
   ]
  },
  {
   "cell_type": "markdown",
   "metadata": {},
   "source": [
    "Now what if instead of a string, our decorator fucntion accepts a different function?"
   ]
  },
  {
   "cell_type": "code",
   "execution_count": 13,
   "metadata": {},
   "outputs": [],
   "source": [
    "def DecoratorFunction(origFunc):\n",
    "    def WrapperFunction():\n",
    "        origFunc()\n",
    "    return WrapperFunction"
   ]
  },
  {
   "cell_type": "code",
   "execution_count": 15,
   "metadata": {},
   "outputs": [],
   "source": [
    "def Display():\n",
    "    print('display function ran')\n",
    "    "
   ]
  },
  {
   "cell_type": "code",
   "execution_count": 26,
   "metadata": {},
   "outputs": [],
   "source": [
    "decoratedDisplay = DecoratorFunction(Display)"
   ]
  },
  {
   "cell_type": "markdown",
   "metadata": {},
   "source": [
    "Here, decoratedDisplay variable is set to the DecoratorFunction function, passed the Display function. The WrapperFunction then calls the passed function (Display) when executed."
   ]
  },
  {
   "cell_type": "code",
   "execution_count": 20,
   "metadata": {},
   "outputs": [
    {
     "name": "stdout",
     "output_type": "stream",
     "text": [
      "display function ran\n"
     ]
    }
   ],
   "source": [
    "decoratedDisplay()"
   ]
  },
  {
   "cell_type": "code",
   "execution_count": 76,
   "metadata": {},
   "outputs": [],
   "source": [
    "def DecoratorFunction(origFunc):\n",
    "    def WrapperFunction(*args, **kwargs):\n",
    "        print ('Wrapper executed this before {}'.format(origFunc.__name__))\n",
    "        return origFunc(*args, **kwargs)\n",
    "    return WrapperFunction"
   ]
  },
  {
   "cell_type": "code",
   "execution_count": 37,
   "metadata": {},
   "outputs": [
    {
     "name": "stdout",
     "output_type": "stream",
     "text": [
      "Wrapper executed this before Display\n",
      "display function ran\n"
     ]
    }
   ],
   "source": [
    "decoratedDisplay()"
   ]
  },
  {
   "cell_type": "markdown",
   "metadata": {},
   "source": [
    "But what about the @ sign??"
   ]
  },
  {
   "cell_type": "code",
   "execution_count": 80,
   "metadata": {},
   "outputs": [],
   "source": [
    "@DecoratorFunction\n",
    "def Display():\n",
    "    print('display function ran')"
   ]
  },
  {
   "cell_type": "code",
   "execution_count": 81,
   "metadata": {},
   "outputs": [
    {
     "name": "stdout",
     "output_type": "stream",
     "text": [
      "Wrapper executed this before Display\n",
      "display function ran\n"
     ]
    }
   ],
   "source": [
    "Display()"
   ]
  },
  {
   "cell_type": "markdown",
   "metadata": {},
   "source": [
    "So the @ sign is saying that Display function will be passed as an argument to the DecoratorFunction every time we invoke the Display function? So that is identical to the following:"
   ]
  },
  {
   "cell_type": "code",
   "execution_count": 54,
   "metadata": {},
   "outputs": [],
   "source": [
    "Display = DecoratorFunction(Display)"
   ]
  },
  {
   "cell_type": "markdown",
   "metadata": {},
   "source": [
    "Another example"
   ]
  },
  {
   "cell_type": "code",
   "execution_count": 62,
   "metadata": {},
   "outputs": [],
   "source": [
    "def DisplayInfo(name,age):\n",
    "    print('DisplayInfo ran with arguments ({}, {})'.format(name,age))"
   ]
  },
  {
   "cell_type": "code",
   "execution_count": 63,
   "metadata": {},
   "outputs": [
    {
     "name": "stdout",
     "output_type": "stream",
     "text": [
      "DisplayInfo ran with arguments (Jon, 31)\n"
     ]
    }
   ],
   "source": [
    "DisplayInfo('Jon', 31)"
   ]
  },
  {
   "cell_type": "markdown",
   "metadata": {},
   "source": [
    "Now what if we want to decorate this?"
   ]
  },
  {
   "cell_type": "code",
   "execution_count": 78,
   "metadata": {},
   "outputs": [],
   "source": [
    "@DecoratorFunction\n",
    "def DisplayInfo(name,age):\n",
    "    print('DisplayInfo ran with arguments ({}, {})'.format(name,age))"
   ]
  },
  {
   "cell_type": "code",
   "execution_count": 79,
   "metadata": {},
   "outputs": [
    {
     "name": "stdout",
     "output_type": "stream",
     "text": [
      "Wrapper executed this before DisplayInfo\n",
      "DisplayInfo ran with arguments (Jon, 31)\n"
     ]
    }
   ],
   "source": [
    "DisplayInfo('Jon', 31)"
   ]
  },
  {
   "cell_type": "markdown",
   "metadata": {},
   "source": [
    "It does not work (or it did not work originally)! We need our wrapper to accept a flexible number of arguments. This is done using *args and **kwargs."
   ]
  },
  {
   "cell_type": "markdown",
   "metadata": {},
   "source": [
    "Classes can be used a decorators instead of functions."
   ]
  },
  {
   "cell_type": "code",
   "execution_count": 82,
   "metadata": {},
   "outputs": [],
   "source": [
    "class DecoratorClass(object):\n",
    "    def __init__(self, origFunc):\n",
    "        self.origFunc=origFunc\n",
    "        \n",
    "    def __call__(self, *args, **kwargs):\n",
    "        print ('Call method executed this before {}'.format(self.origFunc.__name__))\n",
    "        return self.origFunc(*args, **kwargs)"
   ]
  },
  {
   "cell_type": "code",
   "execution_count": 83,
   "metadata": {},
   "outputs": [],
   "source": [
    "@DecoratorClass\n",
    "def DisplayInfo(name,age):\n",
    "    print('DisplayInfo ran with arguments ({}, {})'.format(name,age))"
   ]
  },
  {
   "cell_type": "code",
   "execution_count": 84,
   "metadata": {},
   "outputs": [
    {
     "name": "stdout",
     "output_type": "stream",
     "text": [
      "Call method executed this before DisplayInfo\n",
      "DisplayInfo ran with arguments (Jon, 31)\n"
     ]
    }
   ],
   "source": [
    "DisplayInfo('Jon', 31)"
   ]
  },
  {
   "cell_type": "markdown",
   "metadata": {},
   "source": [
    "That was kind of confusing. Might need to come back to it a second time."
   ]
  },
  {
   "cell_type": "markdown",
   "metadata": {},
   "source": [
    "Back to method decorators.."
   ]
  },
  {
   "cell_type": "code",
   "execution_count": 85,
   "metadata": {},
   "outputs": [],
   "source": [
    "@DecoratorFunction\n",
    "def DisplayInfo(name,age):\n",
    "    print('DisplayInfo ran with arguments ({}, {})'.format(name,age))"
   ]
  },
  {
   "cell_type": "code",
   "execution_count": 86,
   "metadata": {},
   "outputs": [
    {
     "name": "stdout",
     "output_type": "stream",
     "text": [
      "Wrapper executed this before DisplayInfo\n",
      "DisplayInfo ran with arguments (Jon, 31)\n"
     ]
    }
   ],
   "source": [
    "DisplayInfo('Jon', 31)"
   ]
  },
  {
   "cell_type": "markdown",
   "metadata": {},
   "source": [
    "So what are some practicaL examples of decorators?"
   ]
  },
  {
   "cell_type": "code",
   "execution_count": 89,
   "metadata": {},
   "outputs": [],
   "source": [
    "def MyLogger(origFunc):\n",
    "    import logging\n",
    "    logging.basicConfig(filename='{}.log'.format(origFunc.__name__),level=logging.INFO)\n",
    "    @wraps(origFunc)\n",
    "    def Wrapper(*args,**kwargs):\n",
    "        logging.info(\n",
    "            'Ran with args: {}, and kwargs: {}'.format(args,kwargs))\n",
    "        return origFunc(*args, **kwargs)\n",
    "    return Wrapper\n",
    "            "
   ]
  },
  {
   "cell_type": "code",
   "execution_count": 90,
   "metadata": {},
   "outputs": [],
   "source": [
    "@MyLogger\n",
    "def DisplayInfo(name,age):\n",
    "    print('DisplayInfo ran with arguments ({}, {})'.format(name,age))"
   ]
  },
  {
   "cell_type": "code",
   "execution_count": 91,
   "metadata": {},
   "outputs": [
    {
     "name": "stdout",
     "output_type": "stream",
     "text": [
      "DisplayInfo ran with arguments (Jon, 31)\n"
     ]
    }
   ],
   "source": [
    "DisplayInfo('Jon', 31)"
   ]
  },
  {
   "cell_type": "markdown",
   "metadata": {},
   "source": [
    "Now this Logging decorator can be added whenever I want to log a function."
   ]
  },
  {
   "cell_type": "code",
   "execution_count": 92,
   "metadata": {},
   "outputs": [],
   "source": [
    "def MyTimer(origFunc):\n",
    "    import time\n",
    "    @wraps(origFunc)\n",
    "    def Wrapper(*args,**kwargs):\n",
    "        t1 = time.time()\n",
    "        result = origFunc(*args, **kwargs)\n",
    "        t2 = time.time()-t1\n",
    "        print('{} ran in: {} sec'.format(origFunc.__name__, t2))\n",
    "        return result\n",
    "    return Wrapper\n"
   ]
  },
  {
   "cell_type": "code",
   "execution_count": 93,
   "metadata": {},
   "outputs": [],
   "source": [
    "import time\n",
    "@MyTimer\n",
    "def DisplayInfo(name,age):\n",
    "    time.sleep(1)\n",
    "    print('DisplayInfo ran with arguments ({}, {})'.format(name,age))"
   ]
  },
  {
   "cell_type": "code",
   "execution_count": 94,
   "metadata": {},
   "outputs": [
    {
     "name": "stdout",
     "output_type": "stream",
     "text": [
      "DisplayInfo ran with arguments (Jon, 31)\n",
      "DisplayInfo ran in: 1.000983476638794 sec\n"
     ]
    }
   ],
   "source": [
    "DisplayInfo('Jon', 31)"
   ]
  },
  {
   "cell_type": "markdown",
   "metadata": {},
   "source": [
    "We can also chain decorators together. But to do this we need to add @wraps(origFunc) before EACH wrapper function."
   ]
  },
  {
   "cell_type": "code",
   "execution_count": 96,
   "metadata": {},
   "outputs": [],
   "source": [
    "import time\n",
    "@MyLogger\n",
    "@MyTimer\n",
    "def DisplayInfo(name,age):\n",
    "    time.sleep(1)\n",
    "    print('DisplayInfo ran with arguments ({}, {})'.format(name,age))"
   ]
  },
  {
   "cell_type": "code",
   "execution_count": 97,
   "metadata": {},
   "outputs": [
    {
     "name": "stdout",
     "output_type": "stream",
     "text": [
      "DisplayInfo ran with arguments (Jon, 31)\n",
      "DisplayInfo ran in: 1.0004572868347168 sec\n"
     ]
    }
   ],
   "source": [
    "DisplayInfo('Jon', 31)"
   ]
  },
  {
   "cell_type": "code",
   "execution_count": null,
   "metadata": {},
   "outputs": [],
   "source": []
  }
 ],
 "metadata": {
  "kernelspec": {
   "display_name": "Python [conda env:science] *",
   "language": "python",
   "name": "conda-env-science-py"
  },
  "language_info": {
   "codemirror_mode": {
    "name": "ipython",
    "version": 3
   },
   "file_extension": ".py",
   "mimetype": "text/x-python",
   "name": "python",
   "nbconvert_exporter": "python",
   "pygments_lexer": "ipython3",
   "version": "3.7.3"
  },
  "toc": {
   "base_numbering": 1,
   "nav_menu": {},
   "number_sections": true,
   "sideBar": true,
   "skip_h1_title": false,
   "title_cell": "Table of Contents",
   "title_sidebar": "Contents",
   "toc_cell": false,
   "toc_position": {},
   "toc_section_display": true,
   "toc_window_display": true
  }
 },
 "nbformat": 4,
 "nbformat_minor": 2
}
