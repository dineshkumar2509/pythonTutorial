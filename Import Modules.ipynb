{
 "cells": [
  {
   "cell_type": "code",
   "execution_count": 4,
   "metadata": {},
   "outputs": [],
   "source": [
    "import sys\n",
    "import os"
   ]
  },
  {
   "cell_type": "code",
   "execution_count": 2,
   "metadata": {},
   "outputs": [
    {
     "name": "stdout",
     "output_type": "stream",
     "text": [
      "['C:\\\\Users\\\\trueblood\\\\projects\\\\pythonTutorial', 'C:\\\\Users\\\\trueblood\\\\AppData\\\\Local\\\\Continuum\\\\anaconda3\\\\envs\\\\science\\\\python37.zip', 'C:\\\\Users\\\\trueblood\\\\AppData\\\\Local\\\\Continuum\\\\anaconda3\\\\envs\\\\science\\\\DLLs', 'C:\\\\Users\\\\trueblood\\\\AppData\\\\Local\\\\Continuum\\\\anaconda3\\\\envs\\\\science\\\\lib', 'C:\\\\Users\\\\trueblood\\\\AppData\\\\Local\\\\Continuum\\\\anaconda3\\\\envs\\\\science', '', 'C:\\\\Users\\\\trueblood\\\\AppData\\\\Roaming\\\\Python\\\\Python37\\\\site-packages', 'C:\\\\Users\\\\trueblood\\\\AppData\\\\Local\\\\Continuum\\\\anaconda3\\\\envs\\\\science\\\\lib\\\\site-packages', 'C:\\\\Users\\\\trueblood\\\\AppData\\\\Local\\\\Continuum\\\\anaconda3\\\\envs\\\\science\\\\lib\\\\site-packages\\\\win32', 'C:\\\\Users\\\\trueblood\\\\AppData\\\\Local\\\\Continuum\\\\anaconda3\\\\envs\\\\science\\\\lib\\\\site-packages\\\\win32\\\\lib', 'C:\\\\Users\\\\trueblood\\\\AppData\\\\Local\\\\Continuum\\\\anaconda3\\\\envs\\\\science\\\\lib\\\\site-packages\\\\Pythonwin', 'C:\\\\Users\\\\trueblood\\\\AppData\\\\Local\\\\Continuum\\\\anaconda3\\\\envs\\\\science\\\\lib\\\\site-packages\\\\IPython\\\\extensions', 'C:\\\\Users\\\\trueblood\\\\.ipython']\n"
     ]
    }
   ],
   "source": [
    "print(sys.path)"
   ]
  },
  {
   "cell_type": "code",
   "execution_count": null,
   "metadata": {},
   "outputs": [],
   "source": [
    "#Add directory to our sys.path if a module cannot be found\n",
    "sys.path.append('LOCATION OF MODULE')"
   ]
  },
  {
   "cell_type": "markdown",
   "metadata": {},
   "source": [
    "We can also change the python path environment variable. \n",
    "\n",
    "On Mac, do the following:\n",
    "\n",
    "open ~/.bash_profile\n",
    "Anywhere in the file, type:\n",
    "export PYTHONPATH=\"LOCATION OF MODULE\"\n",
    "\n",
    "On Windows, do the following:\n",
    "Click start button, right click on computer and then properties.\n",
    "Go to advanced system settings\n",
    "Then environment variables\n",
    "Create a new USER variable\n",
    "name it PYTHONPATH\n",
    "make location the 'LOCATION OF MODULE'\n",
    "\n"
   ]
  },
  {
   "cell_type": "markdown",
   "metadata": {},
   "source": [
    "Although that process is different for different Python editors.."
   ]
  },
  {
   "cell_type": "code",
   "execution_count": 5,
   "metadata": {},
   "outputs": [
    {
     "name": "stdout",
     "output_type": "stream",
     "text": [
      "C:\\Users\\trueblood\\AppData\\Local\\Continuum\\anaconda3\\envs\\science\\lib\\os.py\n"
     ]
    }
   ],
   "source": [
    "#See where a module lives\n",
    "print(os.__file__)"
   ]
  },
  {
   "cell_type": "code",
   "execution_count": null,
   "metadata": {},
   "outputs": [],
   "source": []
  }
 ],
 "metadata": {
  "kernelspec": {
   "display_name": "Python [conda env:science] *",
   "language": "python",
   "name": "conda-env-science-py"
  },
  "language_info": {
   "codemirror_mode": {
    "name": "ipython",
    "version": 3
   },
   "file_extension": ".py",
   "mimetype": "text/x-python",
   "name": "python",
   "nbconvert_exporter": "python",
   "pygments_lexer": "ipython3",
   "version": "3.7.3"
  },
  "toc": {
   "base_numbering": 1,
   "nav_menu": {},
   "number_sections": true,
   "sideBar": true,
   "skip_h1_title": false,
   "title_cell": "Table of Contents",
   "title_sidebar": "Contents",
   "toc_cell": false,
   "toc_position": {},
   "toc_section_display": true,
   "toc_window_display": false
  }
 },
 "nbformat": 4,
 "nbformat_minor": 2
}
