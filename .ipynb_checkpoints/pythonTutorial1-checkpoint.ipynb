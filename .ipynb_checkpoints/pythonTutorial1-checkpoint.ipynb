{
 "cells": [
  {
   "cell_type": "markdown",
   "metadata": {},
   "source": [
    "This is the first tutorial in a series on using the Python programming language for science. By the end of the series you will have a simple-to-use, reproducible workflow that starts at raw data and ends with the final version of your submitted manuscript. This means we'll learn how to set up and organize your projects on your computer, implement version control to keep them organized, how to use Python programming language to wrangle and clean raw data, conduct exploratory analysis using Jupyter Notebooks and the Python package Pandas, and finally how to create interactive, publication quality graphs using another Python Package named Plotly.\n",
    "\n",
    "Goals of this tutorial:\n",
    "\n",
    "1) Introduce Python and install it on your computer\n",
    "\n",
    "3) Introduce Git and install it on your computer\n",
    "\n",
    "3) Prepare your computer to do science by setting up a Python environment and project directory and linking it to Git"
   ]
  },
  {
   "cell_type": "markdown",
   "metadata": {},
   "source": [
    "<div class=\"alert alert-block alert-info\">\n",
    "<h1><b>Section 1:</b> Getting Started with Python</h3>\n",
    "</div>\n"
   ]
  },
  {
   "cell_type": "markdown",
   "metadata": {},
   "source": [
    "<div class=\"alert alert-block alert-info\">\n",
    "<h2><b>Section 1.1:</b> Introduction</h2>\n",
    "</div>\n"
   ]
  },
  {
   "cell_type": "markdown",
   "metadata": {},
   "source": [
    "<b>What is Python? </b>\n",
    "<br>\n",
    "Python is a programming language. It's open-source, which means it's completely free and its source code can be viewed by anyone. Open source projects are awesome because everyone around the world can contribute to their development. This means there's thousands of free Python applications already available for you to use. \n",
    "\n",
    "<b> How is Python different from Matlab?</b>\n",
    "<br>\n",
    "If you're making the switch from Matlab to Python (you're making the right decision!) you can read this article to get a better idea of how the two compare, including the advantages and drawbacks of each: https://pyzo.org/python_vs_matlab.html. \n",
    "\n",
    "Here's another comparison (albeit biased towards Python): https://realpython.com/matlab-vs-python/\n",
    "\n",
    "<b> The Bottom Line </b>\n",
    "<br>\n",
    "For now, one important distinction between the two should be made. Matlab is a programming language, a collection of packages written in the Matlab language, and an integrated development environment (IDE) all wrapped into one (The IDE is the thing you write code in when using Matlab). Python is ONLY the language. In order to do science with Python, you need to choose and install your own packages and an IDE. This sounds complicated and is one of the reasons people are afraid to make the transition from Matlab to Python.\n",
    "\n",
    "Thankfully, the brave scientists that have made this transition before us have graciously developed ways for newcomers to easily make the transition. They have put together a list of packages we need to use Python for science, some recommended IDEs, and the Python language itself into one installable package. All together, this is known as a Python distribution. For this tutorial, we will be using the Anaconda Python Distribution and its package manager Conda.\n",
    "\n",
    "\n",
    "Why Python? https://python-graph-gallery.com/\n",
    "Jupyter Notebooks:\n",
    "Plotly and Plotly Express https://medium.com/plotly/introducing-plotly-express-808df010143d\n",
    "\n",
    "http://seismo-live.org/"
   ]
  },
  {
   "cell_type": "markdown",
   "metadata": {},
   "source": [
    "<b>What is a package?</b>\n",
    "<br>\n",
    "A package is a piece of code in a given language (e.g., Matlab or Python) someone else has written that can be run on your computer. So basically its a piece of software. An example of a Matlab package is ODESOLVER. An example of a python package is Numpy.\n",
    "\n",
    "\n",
    "<b> What is Anaconda? </b>\n",
    "<br>\n",
    "Anaconda is an open-source Python distribution for scientists. It comes with a bunch of pre-installed Python packages that are useful to scientists (e.g., Numpy, matplotlib, etc.). This is great because it means you don't have to install them all yourself. The whole purpose of Anaconda is to simplify package management and deployment.\n",
    "\n",
    "<b> What is Conda? </b>\n",
    "<br>\n",
    "Remember two seconds ago when I said the whole purpose of Anaconda is to simplify package management and deployment? This is achieved using Conda. Conda is part of the Anaconda distribution. It's a package manager in that it takes care of installing, updating, and removing packages."
   ]
  },
  {
   "cell_type": "markdown",
   "metadata": {},
   "source": [
    "<div class=\"alert alert-block alert-info\">\n",
    "<h2><b>Section 1.2:</b> Installing Anaconda</h2>\n",
    "</div>\n"
   ]
  },
  {
   "cell_type": "markdown",
   "metadata": {},
   "source": [
    "<b> Installation </b>\n",
    "1. Go to Software Center and search for Anaconda. \n",
    "2. Click install.\n",
    "<br>\n",
    "\n",
    "That's it!"
   ]
  },
  {
   "cell_type": "markdown",
   "metadata": {},
   "source": [
    "<div class=\"alert alert-block alert-info\">\n",
    "<h2><b>Section 1.3:</b> Familiarizing Yourself with Anaconda</h2>\n",
    "</div>\n"
   ]
  },
  {
   "cell_type": "markdown",
   "metadata": {},
   "source": [
    "<div class=\"alert alert-block alert-info\">\n",
    "<h3><b>Section 1.3.1: </b>Environments</h3>\n",
    "</div>\n"
   ]
  },
  {
   "cell_type": "markdown",
   "metadata": {},
   "source": [
    "As previously mentioned, open-source software is free for everyone. This means everyone can see the source code of Python and work together to create their own improvements and packages and is one reason why Python has grown so rapidly. Due to its rapid growth, new versions of various Python packages get created quite frequently. This can sometimes complicate things. Read below to see why.\n",
    "\n",
    "\n",
    "<img src='https://lh3.googleusercontent.com/vYpEI2rOFVYEeWTNWmaxUciCii_CYSGp5wpDxc-GYhV-7yoyrdDki2Vzr0bVVHgnK8hNscSm06b7f7_2I1njyGcu2nKPL094ujDPFv6gRRqM9vVht_5wpGHGajEQm2Whz1IWYKRq'>\n",
    "<figcaption> Image Source: https://www.zibtek.com/blog/the-incredible-growth-of-python/</figcaption>\n",
    "\n",
    "\n",
    "\n",
    "<b> The Problem: Unresolved Dependencies </b>\n",
    "\n",
    "The list of programs and versions that your project needs in order to work is called its dependencies.\n",
    "Now imagine you have two projects, ProjectA and ProjectB. ProjectA requires Plotly version 3.0 while ProjectB requires Plotly version 4.0. Having two (or more) versions of the same package can quickly screw things up as your computer might not know which version of Plotly to run for a given project.\n",
    "\n",
    "<b> The Solution: Environments </b>\n",
    "<br>\n",
    "\n",
    "Environments avoid this problem by creating a nice little space separate from everything else in which a unique set of packages can be installed. This means you can have an environment for ProjectA and a separate for ProjectB. Your ProjectA environment can have Plotly 3.0 while your ProjectB environment can have Plotly 4.0, and neither of them will mess up the other one.\n",
    "\n",
    "Environments are also helpful for sharing your code with collaborators. Imagine you make a program that cleans up some raw data, organizes it, and plots it. Then you decide you want to share it with a colleague. You send the code to them but when they try to run it, it doesn't work because they don't have all the correct versions of packages installed (unresolved dependencies!). This headache can be avoided using environments. With one command you can create a file which will list all the packages and their versions present in your environment. Then when your colleague receives your code they can simply enter a command which will look at the text file and automatically create a new environment with all the required dependencies! \n",
    "\n",
    "We'll see more on this later, but for now you should hopefully understand what environments are and why they're important.\n",
    "\n",
    "<b>Note on usage:</b> Data scientists like to have an individual environment for each project. Since us physical scientists write less code, it's usually sufficient to have one environment for all your projects. For example, I just have a single environment named 'science.' However, if you know you'll be writing lots of code with different dependencies, it might be better to have multiple environments. The choice is yours!\n"
   ]
  },
  {
   "cell_type": "markdown",
   "metadata": {},
   "source": [
    "<div class=\"alert alert-block alert-info\">\n",
    "<h3><b>Section 1.3.2:</b> Anaconda Navigator</h3>\n",
    "</div>"
   ]
  },
  {
   "cell_type": "markdown",
   "metadata": {},
   "source": [
    "So environments have packages, and packages are installed using the Conda package manager. How do we use the Conda package manager? Well there are a few ways, but for now we'll use the Anaconda Navigator. The Anaconda Navigator is a graphical user interface (GUI) that allows you to communicate with Conda to control all of your different Anaconda environments and their associated packages. Let's take a quick tour.\n",
    "\n",
    "<b>Home</b> Displays various applications. I don't know what most of these are. The ones that are relevant to us are Notebook and Spyder. \n",
    "\n",
    "<b>Jupyter Notebook</b> is an amazing tool. From their webpage:\n",
    "\n",
    ">\"The Jupyter Notebook is an open-source web application that allows you to create and share documents that contain live code, equations, visualizations and narrative text. Uses include: data cleaning and transformation, numerical simulation, statistical modeling, data visualization, machine learning, and much more.\"\n",
    "\n",
    "Sounds awesome, right? It is. We will be learning how to use it soon. Once you get the hang of it, you'll be using it for all your data analysis.\n",
    "\n",
    "<b>Spyder</b> is another IDE. If youre familiar with Matlab, it's very similar to this. At the beginning you'll probably be more comfortable with Spyder, but as you get more comfortable with coding in Python, you may find Jupyter Notebook is better.\n",
    "    Alternatively, you can use both... develop and test your code in Spyder and then run it in Jupyter. Whatever works best for you!\n",
    "    \n",
    "    "
   ]
  },
  {
   "cell_type": "markdown",
   "metadata": {},
   "source": [
    "<b>Environments</b>\n",
    "This gives you a list of all your environments and the packages that are installed within them. Remember, we installed Anaconda because it makes package management SIMPLE. At the beginning, we are given a default base environment with a bunch of default packages already installed. You could in theory just use this environment, but it's better to create a new environment and work form there. \n",
    "\n",
    "That's really all you need to know about Anaconda Navigator!"
   ]
  },
  {
   "cell_type": "markdown",
   "metadata": {},
   "source": [
    "<div class=\"alert alert-block alert-info\">\n",
    "<h2><b>Section 1 Summary</b></h2>\n",
    "</div>\n"
   ]
  },
  {
   "cell_type": "markdown",
   "metadata": {},
   "source": [
    "This first section might feel overwhelming as you've just learned a bunch of new terms. You may have even googled some of these terms and found out that there's a bunch of other terms related ot them. You might be freaking out and considering running back to your Matlab Safe Space. Don't worry, you'll get familiar with all of this soon enough. For now just focus on what we've learned so far. The rest will come eventually.\n",
    "    \n",
    "<b>To recap:</b>\n",
    "    \n",
    "<li> Python is an open-source programming language.\n",
    "<li> Packages are pieces of code written in Python that allow you to do things (like science).\n",
    "<li> Anaconda is a free distribution of Python that comes with pre-installed packages that make doing science with Python easy.\n",
    "<li> An environment is an isolated workspace that has various versions of packages (dependencies) loaded.\n",
    "<li> Conda is a package manager that we can use to control which packages are installed in our various environments.\n",
    "<li> We can use Anaconda Navigator to communicate with Conda to organize our environments and their installed packages.\n",
    "<br>\n",
    "<br>\n",
    "  If you'd like to read more in depth on all of this, click the following link: https://docs.anaconda.com/anaconda/user-guide/getting-started/"
   ]
  },
  {
   "cell_type": "markdown",
   "metadata": {},
   "source": [
    "<div class=\"alert alert-block alert-info\">\n",
    "<h1><b>Section 2:</b> Setting up your Science Workspace</h3>\n",
    "</div>\n"
   ]
  },
  {
   "cell_type": "markdown",
   "metadata": {},
   "source": [
    "Science is like cooking. I mean, I guess it is. I don't really cook. But if I did, I'd want a clean kitchen with all the necessary tools and ingredients in easy to find spaces so I wouldn't burn my casserole while I was busy looking for a spatula. \n",
    "\n",
    "Now that we have all our Python tools and ingredients, it's time to organize them on our computer so we can make some bomb-ass science-food.\n",
    "\n",
    "https://towardsdatascience.com/get-your-computer-ready-for-machine-learning-how-what-and-why-you-should-use-anaconda-miniconda-d213444f36d6"
   ]
  },
  {
   "cell_type": "markdown",
   "metadata": {},
   "source": [
    "<div class=\"alert alert-block alert-info\">\n",
    "<h2><b>Section 2.1:</b> Version Control with Git </h3>\n"
   ]
  },
  {
   "cell_type": "markdown",
   "metadata": {},
   "source": [
    "You've probably heard of git or github. Physical scientists like us don't use it nearly as much as software engineers, but I think we should.\n",
    "<br>\n",
    "If this has ever happened to you:\n",
    "<img src=\"http://www.phdcomics.com/comics/archive/phd101212s.gif\">\n",
    "<br>\n",
    "Then you will appreciate Git. After you use github you'll never go back. "
   ]
  },
  {
   "cell_type": "markdown",
   "metadata": {},
   "source": [
    "Git, and any other version control system, allows you to track changes to your files in a simple, organized manner. In this tutorial, we'll be using a version of git named Github. Since you can privately save your projects to the Github servers you can also use it as a means of easily sharing your projects with colleagues or between your own computers."
   ]
  },
  {
   "cell_type": "markdown",
   "metadata": {},
   "source": [
    "<div class=\"alert alert-block alert-info\">\n",
    "<h3><b>Section 2.1.1:</b> Getting Started with Github </h3>\n"
   ]
  },
  {
   "cell_type": "markdown",
   "metadata": {},
   "source": [
    "<li>First, create a Github account by going to www.github.com and clicking the green 'Sign Up for Github' button.\n",
    "<li>After you have signed in to github, download the github GUI at https://desktop.github.com/. \n",
    "<li>Open the github GUI on your desktop and login to your github account."
   ]
  },
  {
   "cell_type": "markdown",
   "metadata": {},
   "source": [
    "<b>Note: </b>Git is normally used from the command line but here we'll be using Github's desktop GUI. If you'd like to read about using Git from the command line, read this: https://dont-be-afraid-to-commit.readthedocs.io/en/latest/git/commandlinegit.html"
   ]
  },
  {
   "cell_type": "markdown",
   "metadata": {},
   "source": [
    "Now let's go through the basics of how to use Git."
   ]
  },
  {
   "cell_type": "markdown",
   "metadata": {},
   "source": [
    "<div class=\"alert alert-block alert-info\">\n",
    "<h3><b>Section 2.1.2:</b> Understanding the Git Workflow  </h3>"
   ]
  },
  {
   "cell_type": "markdown",
   "metadata": {},
   "source": [
    "<img src='https://nceas.github.io/sasap-training/materials/reproducible_research_in_r_fairbanks/images/git-flowchart.png'>\n",
    "<imgcaption> Theres quite a bit more, but if you can understand just this part then you're going to be able to get a lot of use out of Git. </imgcaption>"
   ]
  },
  {
   "cell_type": "markdown",
   "metadata": {},
   "source": [
    "Your workspace is a project folder on your computer. If it's 'git enabled' then whenever you make changes, these changes will be listed in the staging index. You can then <b>commit</b> those changes to your local repository. Finally, you can <b>Push</b> changes from your local repository to the remote repository on the Github server. If you're on a different computer, you can then <b>fetch</b> those changes and have the newest version on your computer."
   ]
  },
  {
   "cell_type": "markdown",
   "metadata": {},
   "source": [
    "<b>Lets make a basic project quickly and go over this workflow once.</b>\n",
    "<li>First, make this project a new repo.\n",
    "<br>\n",
    "<li>Make a new text file.\n",
    "<br>\n",
    "<li>Add some text.\n",
    "<br>\n",
    "<li>Now look at the Github gui.\n",
    "<br>\n",
    "Those changes are shown in the Staging Index.\n",
    "<br>\n",
    "You now commit those changes. This basically means \"I've made all the changes I wanted to make and am ready to save a record of these changes.\" Since git keeps a record of all your preivous commits, if your code suddenly stops working, you can go back in time and load a previous comit that was working.\n",
    "<br>\n",
    "Make your commit messages useful! \n",
    "<br>\n",
    "Then you push those changes to the repository.\n",
    "\n",
    "<img src='https://imgs.xkcd.com/comics/git_commit.png'>"
   ]
  },
  {
   "cell_type": "markdown",
   "metadata": {},
   "source": [
    "## Now let's download this tutorial's repository to learn how to clone other people's projects."
   ]
  },
  {
   "cell_type": "code",
   "execution_count": null,
   "metadata": {},
   "outputs": [],
   "source": []
  },
  {
   "cell_type": "code",
   "execution_count": null,
   "metadata": {},
   "outputs": [],
   "source": []
  },
  {
   "cell_type": "code",
   "execution_count": null,
   "metadata": {},
   "outputs": [],
   "source": []
  },
  {
   "cell_type": "code",
   "execution_count": null,
   "metadata": {},
   "outputs": [],
   "source": []
  },
  {
   "cell_type": "markdown",
   "metadata": {},
   "source": [
    "<b>Further Reading:</b> If you want to use Github to work on a project with a collaborator, you'll need to learn about branches. Github has an awesome set of guides that you can read here: https://guides.github.com/ "
   ]
  },
  {
   "cell_type": "markdown",
   "metadata": {},
   "source": [
    "<div class=\"alert alert-block alert-info\">\n",
    "<h2><b>Section 2.2:</b> Creating Your First Conda Environment</h2>\n",
    "</div>\n"
   ]
  },
  {
   "cell_type": "markdown",
   "metadata": {},
   "source": [
    "Now its time to setup our Conda Environment using Conda. Remember, an environment is a directory that contains a specific collection of packages. Also recall that we can control Conda a few ways: the terminal/command line, Anaconda Prompt, or Anaconda Navigator. Since the process of controlling Conda from the command line is slightly different depending on if you're using a Windows or Mac, we'll use the Anaconda Navigator as it's the same for both operating systems.\n",
    "\n",
    "<b>Note:</b> If you'd like to learn how to use Conda from the command line (and you really should!) read here: https://conda.io/projects/conda/en/latest/user-guide/getting-started.html#before-you-start"
   ]
  },
  {
   "cell_type": "markdown",
   "metadata": {},
   "source": [
    "<li>Go to Anaconda Navigator and click Environments.\n",
    "\n",
    "<li>Create a new Environment by clicking \"Create\" at the bottom.\n",
    "<br>\n",
    "\n",
    "This is the environment we will use from now on. Make sure it's active when doing science."
   ]
  },
  {
   "cell_type": "markdown",
   "metadata": {},
   "source": [
    "<div class=\"alert alert-block alert-info\">\n",
    "<h2><b>Section 2.3:</b> Organizing your Projects with Cookiecutter Data Science</h2>\n",
    "</div>\n"
   ]
  },
  {
   "cell_type": "markdown",
   "metadata": {},
   "source": [
    "Cookiecutter Data Science: \"A Logical, reasonably standardized, but flexible project structure for doing and sharing data science work.\"\n",
    "\n",
    "If you've ever made a figure or plot and then lost it somewhere on your computer, then you need to organize your project!\n",
    "\n",
    "Cookiecutter is a script for creating project directories. The Cookiecutter Data Science is a template we can start with.\n",
    "\n",
    "<b>Homepages:</b> \n",
    "<br>\n",
    "https://cookiecutter.readthedocs.io/en/latest/readme.html - Cookiecutter\n",
    "<br>\n",
    "https://drivendata.github.io/cookiecutter-data-science/ - Template"
   ]
  },
  {
   "cell_type": "markdown",
   "metadata": {},
   "source": [
    "<b>Why should you use Cookiecutter?</b>\n",
    "\n",
    "1) Helps present-day-you with data analysis.\n",
    "<br>\n",
    "2) Helps future-you with future data analysis.\n",
    "<br>\n",
    "3) Helps collaborators. \n",
    "<br>\n",
    "4) Organization is a great skill to have for future jobs."
   ]
  },
  {
   "cell_type": "markdown",
   "metadata": {},
   "source": [
    "<div class=\"alert alert-block alert-info\">\n",
    "<h3><b>Section 2.3.1:</b> Installing Cookiecutter</h3>\n",
    "</div>\n"
   ]
  },
  {
   "cell_type": "markdown",
   "metadata": {},
   "source": [
    "Cookiecutter is a python package. \n",
    "<br>\n",
    "\n",
    "Hopefully that sentence meant something to you.\n",
    "<br>\n",
    "\n",
    "Remember, we install python packages using the Conda Package Manager. This means we need to go back to the Anaconda Navigator to install the Cookiecutter package. Most python packages can be found on Conda's default channel. But sometimes they aren't. When this is the case, we need to add a new channel.\n",
    "<br>\n",
    "<br>\n",
    "<li>Go to Channels. \n",
    "<li>Click 'Add..' enter \"conda-forge\" then click Update Channels.\n",
    "<li>click update index. Now all the packages in Conda-Forge repository are available to download.\n",
    "<li>Search Cookiecutter. Then click Apply."
   ]
  },
  {
   "cell_type": "markdown",
   "metadata": {},
   "source": [
    "<b> Note: </b> When you learn how to use command prompts, you can simply type the following in terminal\n",
    "\n",
    "conda install -c conda-forge cookiecutter\n"
   ]
  },
  {
   "cell_type": "markdown",
   "metadata": {},
   "source": [
    "<b>Note:</b> This probably won't work on your desktop computer which kind of sucks. I don't know a way around this."
   ]
  },
  {
   "cell_type": "markdown",
   "metadata": {},
   "source": [
    "<b>Now lets create a new project using Cookiecutter.</b>\n",
    "\n",
    "To-do: Add instrucitons for customizing and creating your own."
   ]
  },
  {
   "cell_type": "markdown",
   "metadata": {},
   "source": [
    "<li> Create a projects directory.\n",
    "<li>We will now create a project with a directory tree inside this project folder using cookiecutter. This can be done directly using templates on the github repository. You can also make your own if you'd like. Here we will use https://github.com/drivendata/cookiecutter-data-science\n",
    "<li> In terminal type: cookiecutter https://github.com/drivendata/cookiecutter-data-science\n",
    "<li> Follow the steps.\n",
    "    \n",
    "    \n",
    "https://cookiecutter.readthedocs.io/en/latest/usage.html\n",
    "<br>\n",
    "Voila!"
   ]
  },
  {
   "cell_type": "markdown",
   "metadata": {},
   "source": [
    "Let's go over some important folders. This convention comes from a paper: https://journals.plos.org/ploscompbiol/article?id=10.1371/journal.pcbi.1000424\n",
    "\n"
   ]
  },
  {
   "cell_type": "code",
   "execution_count": null,
   "metadata": {},
   "outputs": [],
   "source": [
    "data/raw --> Raw instrument data. These files are whatever your instrument directly outputs. Once you put the data in this folder, you should never have to touch it again!\n",
    "Too often you have raw data that becomes altered. Then you come back and dont remember what you've done to the data.\n",
    "\n",
    "data/interim --> Data that has been transformed. Usually into a CSV of some sort which can then be processed later. This is the data that you will import and do actions on. Such as sorting, correlations, etc.\n",
    "\n",
    "data/processed --> This should be as close as possible to the version of the data that you're going to plot. Your script will import this csv, minimal operations will be done on it before plotting it.\n",
    "\n",
    "We will go through an example soon. You can change this to meet your needs. "
   ]
  },
  {
   "cell_type": "markdown",
   "metadata": {},
   "source": [
    "references --> manuals, SOPs, publications relevant to your project.\n",
    "\n",
    "reports--> This is stuff that will be used for powerpoint presentations\n",
    "reports/figures --> Place figures here that you will then use in the reports\n",
    "reports/powerpoints --> Powerpoints are saved here.\n"
   ]
  },
  {
   "cell_type": "code",
   "execution_count": null,
   "metadata": {},
   "outputs": [],
   "source": [
    "src --> Any code relevant to your project. not just python code, but other languages as well.\n",
    "src/data --> Python scripts for preparing your data for analysis. For example, a script that reads in your instrument raw data, then turns it into a CSV and places that CSV in your data/interim folder for future analysis.\n",
    "src/data/analysis --> any code you want for analysis. For example, a correlation script or something.\n",
    "src/visualization --> Code for visualizing data\n"
   ]
  },
  {
   "cell_type": "markdown",
   "metadata": {},
   "source": [
    "notebooks --> Jupyter notebooks. These are very important! This is a record of your data analysis. You can also use notebooks to test code, explore data, create figures, create reports.\n",
    "\n",
    "At the beginning you'll probably be saving code snippets in src/ folder and then copying those into your notebooks during analysis. As you get better at coding, you'll eventually stop needing to reference the code in src and simply be able to write it yourself directly into the notebook. It's still good to have the src folder up to date for future use. \n",
    "\n",
    "requirements.txt --> The environment file that tells your computer what dependencies are needed for this project to work."
   ]
  },
  {
   "cell_type": "markdown",
   "metadata": {},
   "source": [
    "Let's create our first jupyter notebook and save it to the project folder. That's the end of this tutorial. The next tutorial will show you how to use Jupyter and Pandas for data analysis.\n",
    "\n",
    "Finally, let's create a yml file. conda env export > environment.yml\n",
    "\n",
    "See the official conda docs for more on this. But just know it's good to have."
   ]
  },
  {
   "cell_type": "markdown",
   "metadata": {},
   "source": [
    "Jupyter Notebook: https://github.com/jupyter/jupyter/wiki/A-gallery-of-interesting-Jupyter-Notebooks\n",
    "\n",
    "You can epxlore all of these notebooks. You can easily install them to your computer using Github."
   ]
  },
  {
   "cell_type": "markdown",
   "metadata": {},
   "source": [
    "Tutorial 2 we'll start to learn how to do these kinds of these things using Pandas."
   ]
  },
  {
   "cell_type": "code",
   "execution_count": null,
   "metadata": {},
   "outputs": [],
   "source": []
  },
  {
   "cell_type": "code",
   "execution_count": null,
   "metadata": {},
   "outputs": [],
   "source": []
  },
  {
   "cell_type": "code",
   "execution_count": null,
   "metadata": {},
   "outputs": [],
   "source": []
  }
 ],
 "metadata": {
  "kernelspec": {
   "display_name": "Python 3",
   "language": "python",
   "name": "python3"
  },
  "language_info": {
   "codemirror_mode": {
    "name": "ipython",
    "version": 3
   },
   "file_extension": ".py",
   "mimetype": "text/x-python",
   "name": "python",
   "nbconvert_exporter": "python",
   "pygments_lexer": "ipython3",
   "version": "3.7.3"
  }
 },
 "nbformat": 4,
 "nbformat_minor": 2
}
